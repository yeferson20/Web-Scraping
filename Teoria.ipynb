{
  "cells": [
    {
      "cell_type": "markdown",
      "id": "a1355108",
      "metadata": {
        "id": "a1355108"
      },
      "source": [
        "<center> <h1>Universidad Nacional de San Agustín de Arequipa</h1> </center>\n",
        "<center> <h1>Escuela Profesional de Ingeniería de Telecomunicaciones</h1> </center>\n",
        "\n",
        "<center> <h1> </h1> </center>\n",
        "\n",
        "<center><img src=\"https://user-images.githubusercontent.com/19308295/115939517-f1c6fe80-a463-11eb-989c-812ab4942586.png\" width=\"350\" height=\"410\"></center>"
      ]
    },
    {
      "cell_type": "markdown",
      "id": "b95b39cf",
      "metadata": {
        "id": "b95b39cf"
      },
      "source": [
        "<center> <h2>Ingeniero Renzo Bolivar - Docente DAIE</h2> </center>"
      ]
    },
    {
      "cell_type": "markdown",
      "id": "12507e49",
      "metadata": {
        "id": "12507e49"
      },
      "source": [
        "## Integrantes:\n",
        "\n",
        "* Colque Apaza, Esmeralda Tatiana\n",
        "* Espinoza Turpo, Yeferson Gustavo\n",
        "* Hirpanoca Turpo, Gueyson\n",
        "* Quispe Bejar, Jairo Jorge\n",
        "* Valencia Solari, Saul Paolo\n",
        "* Valdivia Aragon, Marco Andree\n"
      ]
    },
    {
      "cell_type": "markdown",
      "id": "9db0fa57",
      "metadata": {
        "id": "9db0fa57"
      },
      "source": [
        "<center> <h1>Curso : Computación 2</h1> </center>"
      ]
    },
    {
      "cell_type": "markdown",
      "id": "e76f4cca",
      "metadata": {
        "id": "e76f4cca"
      },
      "source": [
        "![linea 1](https://user-images.githubusercontent.com/19308295/115926252-2b8a0c00-a448-11eb-9d9c-b43beaf0ff68.png)"
      ]
    },
    {
      "cell_type": "markdown",
      "id": "7e8a2356",
      "metadata": {
        "id": "7e8a2356"
      },
      "source": [
        "<center> <h1>WEB SCRAPING </h1> </center>"
      ]
    },
    {
      "cell_type": "markdown",
      "id": "369499f2",
      "metadata": {
        "id": "369499f2"
      },
      "source": [
        "![linea 1](https://user-images.githubusercontent.com/19308295/115926252-2b8a0c00-a448-11eb-9d9c-b43beaf0ff68.png)"
      ]
    },
    {
      "cell_type": "markdown",
      "id": "4f9ce23a",
      "metadata": {
        "id": "4f9ce23a"
      },
      "source": [
        "Los motores de búsqueda, como Google, han estado utilizando durante mucho tiempo los rastreadores web o crawlers para explorar Internet en busca de términos definidos por los usuarios. Estos rastreadores son bots especiales que visitan página tras página con el objetivo de asociar los términos de búsqueda y categorizarlos. El primer rastreador web, llamado Jumpstation, fue creado en 1993 junto con la presentación del primer motor de búsqueda.\n",
        "\n",
        "Una de las técnicas de rastreo utilizadas es el web scraping o webharvesting, que implica la extracción y almacenamiento de datos para su uso posterior. En este sentido, el lenguaje de programación Python resulta muy conveniente, ya que permite utilizar diversas bibliotecas para un mejor entendimiento y análisis de un DataFrame. A continuación, presentamos algunas situaciones y ejemplos que ilustran su utilidad.\n"
      ]
    },
    {
      "cell_type": "markdown",
      "id": "829c6816",
      "metadata": {
        "id": "829c6816"
      },
      "source": [
        "<center><img src=\"https://kinsta.com/wp-content/uploads/2022/07/Types-of-web-data.png\" width=\"600\" height=\"450\"></center>"
      ]
    },
    {
      "cell_type": "markdown",
      "id": "71468824",
      "metadata": {
        "id": "71468824"
      },
      "source": [
        "## 1. ¿Que es WEB SCRAPING?"
      ]
    },
    {
      "cell_type": "markdown",
      "id": "d6b201ae",
      "metadata": {
        "id": "d6b201ae"
      },
      "source": [
        "El web scraping, también conocido como extracción de datos web, es una técnica utilizada para recopilar información de sitios web de manera automatizada. Consiste en el proceso de extraer datos estructurados de páginas web, ya sea mediante el análisis del código HTML de la página o mediante la interacción con la interfaz web.\n",
        "\n",
        "El web scraping permite obtener datos de manera eficiente y automatizada, evitando la necesidad de recopilarlos manualmente. Esta técnica es utilizada en diversos campos, como la investigación, el análisis de mercado, el seguimiento de precios, la monitorización de noticias y opiniones, entre otros.\n",
        "\n",
        "Para realizar el web scraping, se utilizan lenguajes de programación como Python, y se hacen uso de librerías y herramientas específicas que facilitan la extracción y manipulación de datos de las páginas web. A través del web scraping, es posible obtener información como texto, imágenes, tablas, enlaces y otros elementos presentes en las páginas web.\n"
      ]
    },
    {
      "cell_type": "markdown",
      "source": [
        "<center><img src=\"https://www.antevenio.com/wp-content/uploads/2019/03/web-scraping-attack.jpg\" width=\"700\" height=\"400\"></center>"
      ],
      "metadata": {
        "id": "Hs3zIA93VQkA"
      },
      "id": "Hs3zIA93VQkA"
    },
    {
      "cell_type": "markdown",
      "id": "bc934d95",
      "metadata": {
        "id": "bc934d95"
      },
      "source": [
        "## 2. ¿Para que sirve WEB SCRAPING?"
      ]
    },
    {
      "cell_type": "markdown",
      "id": "1defafa4",
      "metadata": {
        "id": "1defafa4"
      },
      "source": [
        "\n",
        "El web scraping es una herramienta poderosa que nos permite obtener grandes cantidades de información de manera eficiente. A través de los algoritmos de búsqueda, podemos rastrear múltiples sitios web y extraer solo los datos relevantes que necesitamos, evitando la búsqueda manual. Esto nos permite acceder rápidamente a información precisa y nos ahorra tiempo y esfuerzo en el proceso de recopilación de datos.\n"
      ]
    },
    {
      "cell_type": "markdown",
      "id": "6b16cf61",
      "metadata": {
        "id": "6b16cf61"
      },
      "source": [
        "## 3. Usos del WEB SCRAPING"
      ]
    },
    {
      "cell_type": "markdown",
      "id": "26426fff",
      "metadata": {
        "id": "26426fff"
      },
      "source": [
        "\n",
        "El web scraping se utiliza en empresas digitales para recopilar bases de datos. Los casos de uso legítimo incluyen los robots de búsqueda, sitios de comparación de precios y compañías de investigación de mercado que extraen datos de foros y redes sociales.\n",
        "\n",
        "Sin embargo, también existen usos ilegales, como el scraping de precios y el robo de contenido con derechos de autor. Estas prácticas pueden causar graves pérdidas financieras a las entidades digitales afectadas, especialmente si su negocio se basa en modelos de precios competitivos o en la distribución de contenido."
      ]
    },
    {
      "cell_type": "markdown",
      "source": [
        "<center><img src=\" https://lh6.googleusercontent.com/KEyVURUpGF2E7BQGyRuQdg0SnR118K_QKEK9NG8H2M4_GHLpDAWd6E3QtnBGu4SOKSbE08RQDNygv_QHTzORjG1uM5eAKUEbiodm3pCGOlyWqedRwLcwbvEVF4_cSD487meg8hs=s0\" width=\"700\" height=\"400\"></center>\n",
        "\n"
      ],
      "metadata": {
        "id": "rzihjui5ZnP-"
      },
      "id": "rzihjui5ZnP-"
    },
    {
      "cell_type": "markdown",
      "source": [
        "## 4. Tipos de WEB SCRAPING"
      ],
      "metadata": {
        "id": "6sdbUtDmU274"
      },
      "id": "6sdbUtDmU274"
    },
    {
      "cell_type": "markdown",
      "id": "1dc25c95",
      "metadata": {
        "id": "1dc25c95"
      },
      "source": [
        "### a. Web Scraping Manual"
      ]
    },
    {
      "cell_type": "markdown",
      "id": "fdf2663c",
      "metadata": {
        "id": "fdf2663c"
      },
      "source": [
        "El scraping manual es tan sencillo como seleccionar, copiar y pegar los datos o el contenido de una página web. Se utiliza cuando se quiere scrapear una página pequeña, o una sección concreta de cualquier web.\n",
        "Cuando la página es muy grande, o es necesario recopilar información compleja, esta técnica es muy laboriosa y casi no se utiliza en esos casos.\n",
        "Imagina el trabajo que puede llevar extraer información de muchos sitios web de la competencia para estudiarlos utilizando el scraping manual. No es rentable para el scraper,\n"
      ]
    },
    {
      "cell_type": "markdown",
      "id": "b5040ac5",
      "metadata": {
        "id": "b5040ac5"
      },
      "source": [
        "### b. Web Scraping Automático"
      ]
    },
    {
      "cell_type": "markdown",
      "id": "47228606",
      "metadata": {
        "id": "47228606"
      },
      "source": [
        "Es la forma más habitual de hacer scraping web. Se utiliza para obtener grandes cantidades de datos de una o muchas páginas web. Para llevarlo a cabo es necesario el uso de un algoritmo o software que extraiga la información. Hay diferentes maneras de hacerlo:\n",
        "* **Mediante el uso de bots:**\n",
        "Están programados para hacer diferentes tareas de manera automática; en este caso, extraer información de una web.\n",
        "* **A través de un parser o analizador sintáctico:**\n",
        "Un parser convierte una pieza de texto en otro tipo de estructura para almacenar la información.\n",
        "* **Análisis de textos:**\n",
        "Este método es para scrapers experimentados. Utiliza la función “grep” de Unix para encontrar algunos términos de la web en Perl o Python. Este método exige mucho más trabajo que la simple utilización de un software.\n"
      ]
    },
    {
      "cell_type": "markdown",
      "id": "af903092",
      "metadata": {
        "id": "af903092"
      },
      "source": [
        "## 5. ¿Puede una web protegerse del web scraping?"
      ]
    },
    {
      "cell_type": "markdown",
      "id": "accd8524",
      "metadata": {
        "id": "accd8524"
      },
      "source": [
        "\n",
        "El web scraping puede ser una herramienta poderosa para obtener información y mejorar las estrategias de venta o generar bases de datos. Sin embargo, es importante protegerse de posibles ataques y asegurar la exclusividad de nuestro contenido.\n",
        "\n",
        "Existen varias formas de protegerse contra el web scraping. Una opción es utilizar herramientas de seguridad perimetral, como firewalls, para bloquear direcciones IP sospechosas que realicen accesos masivos. También se puede limitar el número de solicitudes de una misma dirección IP y gestionar posibles ataques mediante el archivo .htaccess, configurando parámetros relacionados con el servidor web.\n",
        "\n",
        "La técnica del honeypot puede ser útil al simular contenido falso y atrapar a los bots que intentan extraer información. Es importante tener en cuenta el fichero robots.txt para evitar afectar el posicionamiento web con enlaces rotos.\n",
        "\n",
        "Protegerse del web scraping es fundamental para salvaguardar el esfuerzo invertido en crear una web atractiva o una tienda online competitiva. Si no se establecen barreras adecuadas, podemos perder todo nuestro trabajo en cuestión de minutos ante posibles robos de información por parte de competidores."
      ]
    },
    {
      "cell_type": "markdown",
      "source": [
        "## 6. Formas de Anti-Scraping"
      ],
      "metadata": {
        "id": "q9liX7kuXzNH"
      },
      "id": "q9liX7kuXzNH"
    },
    {
      "cell_type": "markdown",
      "id": "6ddb80b2",
      "metadata": {
        "id": "6ddb80b2"
      },
      "source": [
        "### a. CAPTCHA"
      ]
    },
    {
      "cell_type": "markdown",
      "id": "e27e488b",
      "metadata": {
        "id": "e27e488b"
      },
      "source": [
        "<center><img src=\"https://cdn.pixabay.com/photo/2013/10/29/09/18/captcha-202234_960_720.png\" width=\"350\" height=\"250\"></center>"
      ]
    },
    {
      "cell_type": "markdown",
      "id": "f2d563b8",
      "metadata": {
        "id": "f2d563b8"
      },
      "source": [
        "CAPTCHA, o Prueba de Turing Pública Automatizada Completamente, es una técnica de seguridad que se utiliza para distinguir a los humanos de los bots en los sitios web. Consiste en presentar desafíos visuales o cognitivos que los usuarios deben superar para demostrar su condición humana. Estos desafíos pueden incluir identificar imágenes, resolver problemas matemáticos o reconocer caracteres distorsionados. Al requerir la interacción humana, CAPTCHA ayuda a prevenir el scraping automatizado y protege la integridad de los datos y el contenido del sitio web."
      ]
    },
    {
      "cell_type": "markdown",
      "id": "05f72587",
      "metadata": {
        "id": "05f72587"
      },
      "source": [
        "### b. Seguir el IP, protección anti-scraping"
      ]
    },
    {
      "cell_type": "markdown",
      "source": [
        "<center><img src=\"https://datadome.co/wp-content/uploads/OAT-011-scraping.png\" width=\"400\" height=\"300\"></center>"
      ],
      "metadata": {
        "id": "qCx77NtYYXZO"
      },
      "id": "qCx77NtYYXZO"
    },
    {
      "cell_type": "markdown",
      "id": "90b5c6df",
      "metadata": {
        "id": "90b5c6df"
      },
      "source": [
        "Una de las formas más fáciles para que un sitio web detecte actividades de web scraping es a través del seguimiento de IP. El sitio web podría identificar si la IP es un robot en función de sus comportamientos. Cuando un sitio web descubre que se ha enviado una cantidad abrumadora de solicitudes desde una sola dirección IP periódicamente o en un corto período de tiempo, existe una buena posibilidad de que la IP se bloquee porque se sospecha que es un bot. En este caso, lo que realmente importa para construir un crawler anti-scraping es el número y la frecuencia de visitas por unidad de tiempo. Aquí hay algunos escenarios que puede encontrar.\n",
        "* **Escenario 1:**\n",
        "Hacer múltiples visitas en segundos. No hay forma de que un humano real pueda navegar tan rápido. Entonces, si su crawler envía solicitudes frecuentes a un sitio web, el sitio web definitivamente bloquearía la IP para identificarlo como un robot.\n",
        "\n",
        "Solución: Disminuya la velocidad de scraping. Configurar un tiempo de retraso (por ejemplo, la función \"dormir\") antes de ejecutar o aumentar el tiempo de espera entre dos pasos siempre funciona.\n",
        "* **Escenario 2:**\n",
        "Visitar un sitio web exactamente al mismo ritmo. El humano real no repite los mismos patrones de comportamiento una y otra vez. Algunos sitios web monitorean la frecuencia de las solicitudes y si las solicitudes se envían periódicamente con el mismo patrón exacto, como una vez por segundo, es muy probable que se active el mecanismo anti-scraping.\n",
        "\n",
        "Solución: Establezca un tiempo de retraso aleatorio para cada paso de su rastreador. Con una velocidad de scrapubg aleatoria, el rastreador se comportaría más como los humanos navegan por un sitio web.\n",
        "* **Escenario 3:**\n",
        "Algunas técnicas anti-scraping de alto nivel incorporan algoritmos complejos para rastrear las solicitudes de diferentes IP y analizar sus solicitudes promedio. Si la solicitud de una IP es inusual, como enviar la misma cantidad de solicitudes o visitar el mismo sitio web a la misma hora todos los días, se bloquearía.\n",
        "\n",
        "Solución: Cambie su IP periódicamente. La mayoría de los servicios VPN, cloud servers y servicios proxy podrían proporcionar IP rotadas. A través de una solicitud Rotación de IP, el rastreador no se comporta como un bot, lo que reduce el riesgo de ser bloqueado."
      ]
    },
    {
      "cell_type": "markdown",
      "id": "0314dd8f",
      "metadata": {
        "id": "0314dd8f"
      },
      "source": [
        "### c. Iniciar sesion"
      ]
    },
    {
      "cell_type": "markdown",
      "id": "71390b0e",
      "metadata": {
        "id": "71390b0e"
      },
      "source": [
        "Muchos sitios web, especialmente las plataformas de redes sociales como Twitter y Facebook, solo le muestran información después de iniciar sesión en el sitio web. Para rastrear sitios como estos, los rastreadores también necesitan simular los pasos de registro.\n",
        "Después de iniciar sesión en el sitio web, el rastreador debe guardar las cookies. Una cookie es un pequeño dato que almacena los datos de navegación para los usuarios. Sin las cookies, el sitio web olvidaría que ya ha iniciado sesión y le pedirá que vuelva a iniciar sesión.\n",
        "Además, algunos sitios web con mecanismos de raspado estrictos sólo pueden permitir el acceso parcial a los datos, como 1000 líneas de datos todos los días, incluso después de iniciar sesión.[7]\n"
      ]
    },
    {
      "cell_type": "markdown",
      "id": "c58de8da",
      "metadata": {
        "id": "c58de8da"
      },
      "source": [
        "![linea 2](https://user-images.githubusercontent.com/19308295/115926262-2fb62980-a448-11eb-8189-c2f10e499944.png)"
      ]
    },
    {
      "cell_type": "markdown",
      "id": "2e5969ea",
      "metadata": {
        "id": "2e5969ea"
      },
      "source": [
        "<center> <h1>Conclusión</h1> </center>"
      ]
    },
    {
      "cell_type": "markdown",
      "id": "ddd41219",
      "metadata": {
        "id": "ddd41219"
      },
      "source": [
        "Hoy más que nunca la información es poder. Proteger tu página web frente al web scraping puede ayudarte a progresar en el mundo digital, evitando plagios o competencia desleal por parte de otras empresas. Hay muchas maneras de recopilar información de manera lícita. Durante la investigación hemos visto algunas técnicas para detener esta práctica, pero ten en cuenta que, tanto las herramientas de web scraping como las que tratan de evitarlo, evolucionan de manera continua."
      ]
    },
    {
      "cell_type": "markdown",
      "id": "a6b358b0",
      "metadata": {
        "id": "a6b358b0"
      },
      "source": [
        "![linea 2](https://user-images.githubusercontent.com/19308295/115926262-2fb62980-a448-11eb-8189-c2f10e499944.png)"
      ]
    },
    {
      "cell_type": "markdown",
      "id": "6153d78d",
      "metadata": {
        "id": "6153d78d"
      },
      "source": [
        "## <font color=#33A5FF>****BIBLIOGRAFÍA****<tfont>"
      ]
    },
    {
      "cell_type": "markdown",
      "id": "a5694f9e",
      "metadata": {
        "id": "a5694f9e"
      },
      "source": [
        "[1]  Web scraping: ¿qué es y para qué se utiliza esta técnica? - IONOS: https://www.ionos.es/digitalguide/paginas-web/desarrollo-web/que-es-el-web-scraping/\n",
        "\n",
        "[2] Web Scraping: Aprende sobre el raspado de datos y cómo puede afectar tu empresa - Blog de noticias | Optical Networks: https://www.optical.pe/blog/web-scraping-aprende-sobre-el-raspado-de-datos-y-como-puede-afectar-tu-empresa/\n",
        "\n",
        "[3] ¿Qué es el Web scraping? Introducción y herramientas: https://platzi.com/tutoriales/1908-web-scraping/6606-que-es-el-web-scraping-introduccion-y-herramientas/?gclid=CjwKCAjwk_WVBhBZEiwAUHQCmXUpL0og3ZB1iQ98wqUz5LCINaPrEhK2B-OJU0iiLFHqyFpBuQpFeRoCkeQQAvD_BwE&gclsrc=aw.ds\n",
        "[4] Qué es el web scraping y para qué sirve:\n",
        "https://www.antevenio.com/blog/2019/03/que-es-el-web-scraping-y-para-que-sirve/\n",
        "\n",
        "[5] ¿Qué es el web scraping, para qué sirve y cómo funciona?:\n",
        "https://seranking.com/es/blog/web-scraping/\n",
        "\n",
        "[6] ¿Qué es y para qué sirve el web scraping?:\n",
        "https://www.deustoformacion.com/blog/programacion-tic/que-es-para-que-sirve-web-scraping\n",
        "\n",
        "[7] Técnicas anti-scraping:\n",
        "https://hackernoon.com/5-tecnicas-anti-scraping-que-puedes-encontrar-9t8b3yrl"
      ]
    },
    {
      "cell_type": "markdown",
      "id": "f5f0bc7a",
      "metadata": {
        "id": "f5f0bc7a"
      },
      "source": [
        "![linea 1](https://user-images.githubusercontent.com/19308295/115926252-2b8a0c00-a448-11eb-9d9c-b43beaf0ff68.png)"
      ]
    }
  ],
  "metadata": {
    "kernelspec": {
      "display_name": "Python 3 (ipykernel)",
      "language": "python",
      "name": "python3"
    },
    "language_info": {
      "codemirror_mode": {
        "name": "ipython",
        "version": 3
      },
      "file_extension": ".py",
      "mimetype": "text/x-python",
      "name": "python",
      "nbconvert_exporter": "python",
      "pygments_lexer": "ipython3",
      "version": "3.9.12"
    },
    "colab": {
      "provenance": []
    }
  },
  "nbformat": 4,
  "nbformat_minor": 5
}